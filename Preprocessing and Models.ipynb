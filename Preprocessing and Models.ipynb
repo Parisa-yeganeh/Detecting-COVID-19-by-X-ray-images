{
 "cells": [
  {
   "cell_type": "code",
   "execution_count": 1,
   "id": "cc153e74",
   "metadata": {},
   "outputs": [],
   "source": [
    "import pandas as pd\n",
    "import seaborn as sns\n",
    "import numpy as np\n",
    "from sklearn.decomposition import PCA\n",
    "import matplotlib.pyplot as plt\n",
    "from sklearn.model_selection import train_test_split , cross_val_score\n",
    "from sklearn.preprocessing import MinMaxScaler\n",
    "from sklearn.decomposition import PCA\n",
    "from sklearn.neighbors import KNeighborsClassifier\n",
    "from sklearn.naive_bayes import GaussianNB\n",
    "from sklearn import svm\n",
    "from sklearn.tree import DecisionTreeClassifier\n",
    "from sklearn import metrics\n",
    "from sklearn.metrics import confusion_matrix, accuracy_score\n",
    "from sklearn.linear_model import LinearRegression\n",
    "import sklearn.metrics as met\n",
    "from sklearn.model_selection import GridSearchCV\n",
    "from sklearn.ensemble import RandomForestClassifier"
   ]
  },
  {
   "cell_type": "code",
   "execution_count": 2,
   "id": "ce512080",
   "metadata": {},
   "outputs": [],
   "source": [
    "#define dataset\n",
    "data= pd.read_csv('...//feature.csv')"
   ]
  },
  {
   "cell_type": "code",
   "execution_count": 3,
   "id": "fc54e1f7",
   "metadata": {},
   "outputs": [],
   "source": [
    "#split\n",
    "x= data.iloc[:,:(data.shape[1]-1)]\n",
    "y= data.iloc[:,(data.shape[1]-1)]\n",
    "\n",
    "x_train, x_test, y_train, y_test = train_test_split(x, y ,test_size=0.25)\n"
   ]
  },
  {
   "cell_type": "markdown",
   "id": "d189e8c5",
   "metadata": {},
   "source": [
    "'''Two methods to reduce the dimension, first : remove low variance features and high corr features and fit PCA second: just fit PCA '''"
   ]
  },
  {
   "cell_type": "code",
   "execution_count": 4,
   "id": "c8a4047a",
   "metadata": {},
   "outputs": [],
   "source": [
    "#find and remove low variance feature\n",
    "high_var=set()\n",
    "for i in range(len(x_train.columns)):\n",
    "        if x_train.iloc[:,i].var() == 0 :\n",
    "            colname = x_train.columns[i]\n",
    "            high_var.add(colname)\n",
    "\n",
    "\n"
   ]
  },
  {
   "cell_type": "code",
   "execution_count": 11,
   "id": "e4657bd5",
   "metadata": {
    "collapsed": true
   },
   "outputs": [
    {
     "ename": "KeyError",
     "evalue": "\"['197' '236' '112' '493' '434' '248' '17' '25' '153' '494' '140' '374'\\n '192' '372' '133' '385' '150' '134' '352' '491' '166' '46' '474' '254'\\n '464' '255' '158' '269' '347' '101' '458' '466' '507' '73' '499' '152'\\n '502' '85' '470' '3' '435' '284' '465' '291' '504' '174' '412' '214'\\n '258' '337' '36' '137' '451' '53' '33' '8' '424' '126' '349' '240' '320'\\n '15' '93' '429' '116' '143' '345' '229' '292' '294' '90' '290' '66' '122'\\n '223' '217' '393' '135' '26' '24' '246' '287' '418' '422' '201' '259'\\n '376' '301' '187' '16' '48' '128' '289' '119' '488' '225' '203' '335'\\n '251' '170' '245' '123' '196' '163' '382' '204' '276' '339' '331' '74'\\n '76' '490' '379' '111' '438' '498' '221' '206' '237' '234' '146' '72'\\n '57' '463' '63' '288' '468' '262' '179' '186' '78' '1' '222' '70' '455'\\n '497' '439' '456' '275' '274' '344' '324' '185' '277' '131' '29' '52'\\n '65' '40' '2' '373' '19' '67' '270' '340' '114' '107' '10' '127' '230'\\n '100' '449' '162' '411' '232' '191' '501' '79' '11'] not found in axis\"",
     "output_type": "error",
     "traceback": [
      "\u001b[1;31m---------------------------------------------------------------------------\u001b[0m",
      "\u001b[1;31mKeyError\u001b[0m                                  Traceback (most recent call last)",
      "\u001b[1;32m<ipython-input-11-7a4bdf34a04c>\u001b[0m in \u001b[0;36m<module>\u001b[1;34m\u001b[0m\n\u001b[1;32m----> 1\u001b[1;33m \u001b[0mx_train\u001b[0m\u001b[1;33m.\u001b[0m\u001b[0mdrop\u001b[0m\u001b[1;33m(\u001b[0m\u001b[0mlabels\u001b[0m\u001b[1;33m=\u001b[0m\u001b[0mhigh_var\u001b[0m\u001b[1;33m,\u001b[0m \u001b[0maxis\u001b[0m\u001b[1;33m=\u001b[0m\u001b[1;36m1\u001b[0m\u001b[1;33m,\u001b[0m \u001b[0minplace\u001b[0m\u001b[1;33m=\u001b[0m\u001b[1;32mTrue\u001b[0m\u001b[1;33m)\u001b[0m\u001b[1;33m\u001b[0m\u001b[1;33m\u001b[0m\u001b[0m\n\u001b[0m\u001b[0;32m      2\u001b[0m \u001b[0mx_test\u001b[0m\u001b[1;33m.\u001b[0m\u001b[0mdrop\u001b[0m\u001b[1;33m(\u001b[0m\u001b[0mlabels\u001b[0m\u001b[1;33m=\u001b[0m\u001b[0mhigh_var\u001b[0m\u001b[1;33m,\u001b[0m \u001b[0maxis\u001b[0m\u001b[1;33m=\u001b[0m\u001b[1;36m1\u001b[0m\u001b[1;33m,\u001b[0m \u001b[0minplace\u001b[0m\u001b[1;33m=\u001b[0m\u001b[1;32mTrue\u001b[0m\u001b[1;33m)\u001b[0m\u001b[1;33m\u001b[0m\u001b[1;33m\u001b[0m\u001b[0m\n",
      "\u001b[1;32m~\\anaconda3\\lib\\site-packages\\pandas\\core\\frame.py\u001b[0m in \u001b[0;36mdrop\u001b[1;34m(self, labels, axis, index, columns, level, inplace, errors)\u001b[0m\n\u001b[0;32m   4306\u001b[0m                 \u001b[0mweight\u001b[0m  \u001b[1;36m1.0\u001b[0m     \u001b[1;36m0.8\u001b[0m\u001b[1;33m\u001b[0m\u001b[1;33m\u001b[0m\u001b[0m\n\u001b[0;32m   4307\u001b[0m         \"\"\"\n\u001b[1;32m-> 4308\u001b[1;33m         return super().drop(\n\u001b[0m\u001b[0;32m   4309\u001b[0m             \u001b[0mlabels\u001b[0m\u001b[1;33m=\u001b[0m\u001b[0mlabels\u001b[0m\u001b[1;33m,\u001b[0m\u001b[1;33m\u001b[0m\u001b[1;33m\u001b[0m\u001b[0m\n\u001b[0;32m   4310\u001b[0m             \u001b[0maxis\u001b[0m\u001b[1;33m=\u001b[0m\u001b[0maxis\u001b[0m\u001b[1;33m,\u001b[0m\u001b[1;33m\u001b[0m\u001b[1;33m\u001b[0m\u001b[0m\n",
      "\u001b[1;32m~\\anaconda3\\lib\\site-packages\\pandas\\core\\generic.py\u001b[0m in \u001b[0;36mdrop\u001b[1;34m(self, labels, axis, index, columns, level, inplace, errors)\u001b[0m\n\u001b[0;32m   4151\u001b[0m         \u001b[1;32mfor\u001b[0m \u001b[0maxis\u001b[0m\u001b[1;33m,\u001b[0m \u001b[0mlabels\u001b[0m \u001b[1;32min\u001b[0m \u001b[0maxes\u001b[0m\u001b[1;33m.\u001b[0m\u001b[0mitems\u001b[0m\u001b[1;33m(\u001b[0m\u001b[1;33m)\u001b[0m\u001b[1;33m:\u001b[0m\u001b[1;33m\u001b[0m\u001b[1;33m\u001b[0m\u001b[0m\n\u001b[0;32m   4152\u001b[0m             \u001b[1;32mif\u001b[0m \u001b[0mlabels\u001b[0m \u001b[1;32mis\u001b[0m \u001b[1;32mnot\u001b[0m \u001b[1;32mNone\u001b[0m\u001b[1;33m:\u001b[0m\u001b[1;33m\u001b[0m\u001b[1;33m\u001b[0m\u001b[0m\n\u001b[1;32m-> 4153\u001b[1;33m                 \u001b[0mobj\u001b[0m \u001b[1;33m=\u001b[0m \u001b[0mobj\u001b[0m\u001b[1;33m.\u001b[0m\u001b[0m_drop_axis\u001b[0m\u001b[1;33m(\u001b[0m\u001b[0mlabels\u001b[0m\u001b[1;33m,\u001b[0m \u001b[0maxis\u001b[0m\u001b[1;33m,\u001b[0m \u001b[0mlevel\u001b[0m\u001b[1;33m=\u001b[0m\u001b[0mlevel\u001b[0m\u001b[1;33m,\u001b[0m \u001b[0merrors\u001b[0m\u001b[1;33m=\u001b[0m\u001b[0merrors\u001b[0m\u001b[1;33m)\u001b[0m\u001b[1;33m\u001b[0m\u001b[1;33m\u001b[0m\u001b[0m\n\u001b[0m\u001b[0;32m   4154\u001b[0m \u001b[1;33m\u001b[0m\u001b[0m\n\u001b[0;32m   4155\u001b[0m         \u001b[1;32mif\u001b[0m \u001b[0minplace\u001b[0m\u001b[1;33m:\u001b[0m\u001b[1;33m\u001b[0m\u001b[1;33m\u001b[0m\u001b[0m\n",
      "\u001b[1;32m~\\anaconda3\\lib\\site-packages\\pandas\\core\\generic.py\u001b[0m in \u001b[0;36m_drop_axis\u001b[1;34m(self, labels, axis, level, errors)\u001b[0m\n\u001b[0;32m   4186\u001b[0m                 \u001b[0mnew_axis\u001b[0m \u001b[1;33m=\u001b[0m \u001b[0maxis\u001b[0m\u001b[1;33m.\u001b[0m\u001b[0mdrop\u001b[0m\u001b[1;33m(\u001b[0m\u001b[0mlabels\u001b[0m\u001b[1;33m,\u001b[0m \u001b[0mlevel\u001b[0m\u001b[1;33m=\u001b[0m\u001b[0mlevel\u001b[0m\u001b[1;33m,\u001b[0m \u001b[0merrors\u001b[0m\u001b[1;33m=\u001b[0m\u001b[0merrors\u001b[0m\u001b[1;33m)\u001b[0m\u001b[1;33m\u001b[0m\u001b[1;33m\u001b[0m\u001b[0m\n\u001b[0;32m   4187\u001b[0m             \u001b[1;32melse\u001b[0m\u001b[1;33m:\u001b[0m\u001b[1;33m\u001b[0m\u001b[1;33m\u001b[0m\u001b[0m\n\u001b[1;32m-> 4188\u001b[1;33m                 \u001b[0mnew_axis\u001b[0m \u001b[1;33m=\u001b[0m \u001b[0maxis\u001b[0m\u001b[1;33m.\u001b[0m\u001b[0mdrop\u001b[0m\u001b[1;33m(\u001b[0m\u001b[0mlabels\u001b[0m\u001b[1;33m,\u001b[0m \u001b[0merrors\u001b[0m\u001b[1;33m=\u001b[0m\u001b[0merrors\u001b[0m\u001b[1;33m)\u001b[0m\u001b[1;33m\u001b[0m\u001b[1;33m\u001b[0m\u001b[0m\n\u001b[0m\u001b[0;32m   4189\u001b[0m             \u001b[0mresult\u001b[0m \u001b[1;33m=\u001b[0m \u001b[0mself\u001b[0m\u001b[1;33m.\u001b[0m\u001b[0mreindex\u001b[0m\u001b[1;33m(\u001b[0m\u001b[1;33m**\u001b[0m\u001b[1;33m{\u001b[0m\u001b[0maxis_name\u001b[0m\u001b[1;33m:\u001b[0m \u001b[0mnew_axis\u001b[0m\u001b[1;33m}\u001b[0m\u001b[1;33m)\u001b[0m\u001b[1;33m\u001b[0m\u001b[1;33m\u001b[0m\u001b[0m\n\u001b[0;32m   4190\u001b[0m \u001b[1;33m\u001b[0m\u001b[0m\n",
      "\u001b[1;32m~\\anaconda3\\lib\\site-packages\\pandas\\core\\indexes\\base.py\u001b[0m in \u001b[0;36mdrop\u001b[1;34m(self, labels, errors)\u001b[0m\n\u001b[0;32m   5589\u001b[0m         \u001b[1;32mif\u001b[0m \u001b[0mmask\u001b[0m\u001b[1;33m.\u001b[0m\u001b[0many\u001b[0m\u001b[1;33m(\u001b[0m\u001b[1;33m)\u001b[0m\u001b[1;33m:\u001b[0m\u001b[1;33m\u001b[0m\u001b[1;33m\u001b[0m\u001b[0m\n\u001b[0;32m   5590\u001b[0m             \u001b[1;32mif\u001b[0m \u001b[0merrors\u001b[0m \u001b[1;33m!=\u001b[0m \u001b[1;34m\"ignore\"\u001b[0m\u001b[1;33m:\u001b[0m\u001b[1;33m\u001b[0m\u001b[1;33m\u001b[0m\u001b[0m\n\u001b[1;32m-> 5591\u001b[1;33m                 \u001b[1;32mraise\u001b[0m \u001b[0mKeyError\u001b[0m\u001b[1;33m(\u001b[0m\u001b[1;34mf\"{labels[mask]} not found in axis\"\u001b[0m\u001b[1;33m)\u001b[0m\u001b[1;33m\u001b[0m\u001b[1;33m\u001b[0m\u001b[0m\n\u001b[0m\u001b[0;32m   5592\u001b[0m             \u001b[0mindexer\u001b[0m \u001b[1;33m=\u001b[0m \u001b[0mindexer\u001b[0m\u001b[1;33m[\u001b[0m\u001b[1;33m~\u001b[0m\u001b[0mmask\u001b[0m\u001b[1;33m]\u001b[0m\u001b[1;33m\u001b[0m\u001b[1;33m\u001b[0m\u001b[0m\n\u001b[0;32m   5593\u001b[0m         \u001b[1;32mreturn\u001b[0m \u001b[0mself\u001b[0m\u001b[1;33m.\u001b[0m\u001b[0mdelete\u001b[0m\u001b[1;33m(\u001b[0m\u001b[0mindexer\u001b[0m\u001b[1;33m)\u001b[0m\u001b[1;33m\u001b[0m\u001b[1;33m\u001b[0m\u001b[0m\n",
      "\u001b[1;31mKeyError\u001b[0m: \"['197' '236' '112' '493' '434' '248' '17' '25' '153' '494' '140' '374'\\n '192' '372' '133' '385' '150' '134' '352' '491' '166' '46' '474' '254'\\n '464' '255' '158' '269' '347' '101' '458' '466' '507' '73' '499' '152'\\n '502' '85' '470' '3' '435' '284' '465' '291' '504' '174' '412' '214'\\n '258' '337' '36' '137' '451' '53' '33' '8' '424' '126' '349' '240' '320'\\n '15' '93' '429' '116' '143' '345' '229' '292' '294' '90' '290' '66' '122'\\n '223' '217' '393' '135' '26' '24' '246' '287' '418' '422' '201' '259'\\n '376' '301' '187' '16' '48' '128' '289' '119' '488' '225' '203' '335'\\n '251' '170' '245' '123' '196' '163' '382' '204' '276' '339' '331' '74'\\n '76' '490' '379' '111' '438' '498' '221' '206' '237' '234' '146' '72'\\n '57' '463' '63' '288' '468' '262' '179' '186' '78' '1' '222' '70' '455'\\n '497' '439' '456' '275' '274' '344' '324' '185' '277' '131' '29' '52'\\n '65' '40' '2' '373' '19' '67' '270' '340' '114' '107' '10' '127' '230'\\n '100' '449' '162' '411' '232' '191' '501' '79' '11'] not found in axis\""
     ]
    }
   ],
   "source": [
    "x_train.drop(labels=high_var, axis=1, inplace=True)\n",
    "x_test.drop(labels=high_var, axis=1, inplace=True)"
   ]
  },
  {
   "cell_type": "code",
   "execution_count": 9,
   "id": "90b53c34",
   "metadata": {},
   "outputs": [],
   "source": [
    "#find and remove high correlation\n",
    "corr_matrix2 = x_train.corr()\n",
    "correlated_var=set()\n",
    "\n",
    "for i in range(len(corr_matrix2 .columns)):\n",
    "    for j in range(i):\n",
    "        if abs(corr_matrix2.iloc[i, j]) > 0.85:\n",
    "            colname = corr_matrix2.columns[i]\n",
    "            correlated_var.add(colname)"
   ]
  },
  {
   "cell_type": "code",
   "execution_count": 10,
   "id": "b44d4ffd",
   "metadata": {},
   "outputs": [],
   "source": [
    "x_train.drop(labels=correlated_var, axis=1, inplace=True)\n",
    "x_test.drop(labels=correlated_var, axis=1, inplace=True)\n"
   ]
  },
  {
   "cell_type": "code",
   "execution_count": 12,
   "id": "58c2da1e",
   "metadata": {},
   "outputs": [],
   "source": [
    "#scale\n",
    "scaler=MinMaxScaler()\n",
    "x_train_scaled=scaler.fit_transform(x_train)\n",
    "x_test_scaled=scaler.transform(x_test)"
   ]
  },
  {
   "cell_type": "code",
   "execution_count": 13,
   "id": "913e8f76",
   "metadata": {},
   "outputs": [],
   "source": [
    "#fitting pca\n",
    "pca = PCA(n_components=30)\n",
    "pca.fit(x_train_scaled)\n",
    "\n",
    "x_train_pca = pca.transform(x_train_scaled)\n",
    "x_test_pca = pca.transform(x_test_scaled)\n"
   ]
  },
  {
   "cell_type": "code",
   "execution_count": 6,
   "id": "62db2fc6",
   "metadata": {},
   "outputs": [
    {
     "name": "stdout",
     "output_type": "stream",
     "text": [
      "{'max_depth': 10, 'n_estimators': 38}\n",
      "0.95\n"
     ]
    }
   ],
   "source": [
    "#RF\n",
    "\n",
    "rf_model = RandomForestClassifier()\n",
    "#here you can put any parameter you want at every run, like random_state or verbosity\n",
    "params_to_test ={\"n_estimators\":range(2, 60),\"max_depth\":range(2, 20) }\n",
    "\n",
    "#here you specify the CV parameters, number of folds, numberof cores to use...\n",
    "grid_search = GridSearchCV(estimator=rf_model, param_grid=params_to_test, cv=10 , n_jobs=4)\n",
    "\n",
    "grid_search.fit(x_train_pca, y_train)\n",
    "print(grid_search.best_params_ ) #max_depth= 6, n_estimators= 56=8 \n",
    "print(grid_search.best_score_)\n"
   ]
  },
  {
   "cell_type": "code",
   "execution_count": 7,
   "id": "2b232b03",
   "metadata": {},
   "outputs": [
    {
     "name": "stdout",
     "output_type": "stream",
     "text": [
      "Train Acc is :  1.0\n",
      "Test Acc is :  0.8461538461538461\n"
     ]
    }
   ],
   "source": [
    "rf_model= RandomForestClassifier(max_depth= 10, n_estimators= 38)\n",
    "rf_model.fit(x_train_pca, y_train)\n",
    "print(\"Train Acc is : \",accuracy_score(y_train,rf_model.predict(x_train_pca)))\n",
    "print(\"Test Acc is : \",accuracy_score(y_test,rf_model.predict(x_test_pca)))   "
   ]
  },
  {
   "cell_type": "code",
   "execution_count": 14,
   "id": "fb1b0796",
   "metadata": {},
   "outputs": [
    {
     "name": "stdout",
     "output_type": "stream",
     "text": [
      "{'n_neighbors': 1}\n",
      "0.8666666666666666\n"
     ]
    }
   ],
   "source": [
    "#KNN\n",
    "knn_model = KNeighborsClassifier()\n",
    "param_knn = {'n_neighbors' : np.arange(1 , 34)}\n",
    "grid_knn = GridSearchCV(knn_model , param_knn , cv = 10) \n",
    "grid_knn.fit(x_train_pca, y_train)\n",
    "print(grid_knn.best_params_ ) # #'n_neighbors': 2\n",
    "print(grid_knn.best_score_)\n"
   ]
  },
  {
   "cell_type": "code",
   "execution_count": 15,
   "id": "cf08241f",
   "metadata": {},
   "outputs": [
    {
     "name": "stdout",
     "output_type": "stream",
     "text": [
      "Train Acc is :  1.0\n",
      "Test Acc is :  0.9230769230769231\n"
     ]
    }
   ],
   "source": [
    "knn_model=KNeighborsClassifier(n_neighbors=1)\n",
    "knn_model.fit(x_train_pca, y_train)\n",
    "\n",
    "print(\"Train Acc is : \",accuracy_score(y_train,knn_model.predict(x_train_pca)))\n",
    "print(\"Test Acc is : \",accuracy_score(y_test,knn_model.predict(x_test_pca)))"
   ]
  },
  {
   "cell_type": "code",
   "execution_count": 10,
   "id": "96175bdd",
   "metadata": {},
   "outputs": [
    {
     "data": {
      "text/plain": [
       "{'C': 10, 'gamma': 0.001, 'kernel': 'rbf'}"
      ]
     },
     "execution_count": 10,
     "metadata": {},
     "output_type": "execute_result"
    }
   ],
   "source": [
    "#SVM\n",
    "svm_model = svm.SVC()\n",
    "svm_param = {\"C\": [10, 50, 100, 200, 300, 400, 500],\n",
    "             \"kernel\" :['linear', 'poly', 'rbf', 'sigmoid'],\n",
    "              \"gamma\": [0.001,0.002,0.01,0.02,0.01]}\n",
    "grid_svm = GridSearchCV(estimator=svm_model , param_grid = svm_param , cv = 10)\n",
    "grid_svm.fit(x_train_pca , y_train)\n",
    "grid_svm.best_params_  #{'C': 10, 'gamma': 0.001, 'kernel': 'rbf'}  \n"
   ]
  },
  {
   "cell_type": "code",
   "execution_count": 11,
   "id": "441123ea",
   "metadata": {},
   "outputs": [
    {
     "name": "stdout",
     "output_type": "stream",
     "text": [
      "Train Acc is :  0.972972972972973\n",
      "Test Acc is :  1.0\n"
     ]
    }
   ],
   "source": [
    "svm_model = svm.SVC(kernel='rbf', C=10, gamma=0.001)\n",
    "svm_model.fit(x_train_pca,y_train)\n",
    "\n",
    "print(\"Train Acc is : \",accuracy_score(y_train,svm_model.predict(x_train_pca))) # 1.00  #97\n",
    "print(\"Test Acc is : \",accuracy_score(y_test,svm_model.predict(x_test_pca)))  #92    #92\n"
   ]
  },
  {
   "cell_type": "code",
   "execution_count": 13,
   "id": "653f1132",
   "metadata": {},
   "outputs": [
    {
     "name": "stdout",
     "output_type": "stream",
     "text": [
      "{'max_depth': 3, 'max_features': 17, 'min_samples_leaf': 4}\n",
      "0.925\n"
     ]
    }
   ],
   "source": [
    "#DT\n",
    "tree = DecisionTreeClassifier()\n",
    "param_df = {'max_depth' : [None , 3], 'max_features': np.arange(1,30) ,\n",
    "            'min_samples_leaf': np.arange(1,10)}\n",
    "grid_tree = GridSearchCV(tree , param_df , cv=10)\n",
    "grid_tree.fit(x_train_pca, y_train)\n",
    "print(grid_tree.best_params_ ) #'max_depth': 3, 'max_features': 13, 'min_samples_leaf': 1\n",
    "print(grid_tree.best_score_)"
   ]
  },
  {
   "cell_type": "code",
   "execution_count": 14,
   "id": "490b54fd",
   "metadata": {},
   "outputs": [
    {
     "name": "stdout",
     "output_type": "stream",
     "text": [
      "Train Acc is :  0.918918918918919\n",
      "Test Acc is :  0.6153846153846154\n"
     ]
    }
   ],
   "source": [
    "\n",
    "tree_model=DecisionTreeClassifier(max_depth=3, max_features= 17, min_samples_leaf= 4)\n",
    "tree_model.fit(x_train_pca,y_train)\n",
    "print(\"Train Acc is : \",accuracy_score(y_train,tree_model.predict(x_train_pca))) # 83  #86\n",
    "print(\"Test Acc is : \",accuracy_score(y_test,tree_model.predict(x_test_pca)))  #92   #77"
   ]
  },
  {
   "cell_type": "code",
   "execution_count": 15,
   "id": "462a0e95",
   "metadata": {},
   "outputs": [
    {
     "data": {
      "text/plain": [
       "0.22200564530412753"
      ]
     },
     "execution_count": 15,
     "metadata": {},
     "output_type": "execute_result"
    }
   ],
   "source": [
    "#linear regression\n",
    "lireg_model = LinearRegression()\n",
    "lireg_model.fit(x_train_pca , y_train)\n",
    "met.mean_squared_error(y_train,lireg_model.predict(x_train_pca))  #0.044  #0.02\n",
    "met.mean_squared_error(y_test,lireg_model.predict(x_test_pca))  #0.46     #0.31\n"
   ]
  },
  {
   "cell_type": "code",
   "execution_count": null,
   "id": "b8c8a884",
   "metadata": {},
   "outputs": [],
   "source": []
  }
 ],
 "metadata": {
  "kernelspec": {
   "display_name": "Python 3",
   "language": "python",
   "name": "python3"
  },
  "language_info": {
   "codemirror_mode": {
    "name": "ipython",
    "version": 3
   },
   "file_extension": ".py",
   "mimetype": "text/x-python",
   "name": "python",
   "nbconvert_exporter": "python",
   "pygments_lexer": "ipython3",
   "version": "3.8.8"
  }
 },
 "nbformat": 4,
 "nbformat_minor": 5
}
